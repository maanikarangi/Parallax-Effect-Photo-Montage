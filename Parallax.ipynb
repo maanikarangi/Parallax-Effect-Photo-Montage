{
 "cells": [
  {
   "cell_type": "code",
   "execution_count": null,
   "id": "9bf2ce9c-71cd-45ba-9419-b302f8fa1dd7",
   "metadata": {},
   "outputs": [],
   "source": []
  }
 ],
 "metadata": {
  "kernelspec": {
   "display_name": "",
   "name": ""
  },
  "language_info": {
   "name": ""
  }
 },
 "nbformat": 4,
 "nbformat_minor": 5
}
